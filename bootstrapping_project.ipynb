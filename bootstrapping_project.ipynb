{
 "cells": [
  {
   "cell_type": "code",
   "execution_count": 41,
   "metadata": {},
   "outputs": [],
   "source": [
    "from statsmodels.stats.power import TTestIndPower\n",
    "from scipy import stats\n",
    "import pandas as pd\n",
    "import numpy as np\n",
    "import matplotlib\n",
    "import matplotlib.pyplot as plt\n",
    "%matplotlib inline"
   ]
  },
  {
   "cell_type": "code",
   "execution_count": null,
   "metadata": {},
   "outputs": [],
   "source": [
    "#!unzip 'womens-shoes-prices.zip'"
   ]
  },
  {
   "cell_type": "code",
   "execution_count": 2,
   "metadata": {},
   "outputs": [],
   "source": [
    "shoes_june_df = pd.read_csv('Datafiniti_Womens_Shoes_Jun19.csv')"
   ]
  },
  {
   "cell_type": "code",
   "execution_count": 3,
   "metadata": {},
   "outputs": [
    {
     "data": {
      "text/plain": [
       "10000"
      ]
     },
     "execution_count": 3,
     "metadata": {},
     "output_type": "execute_result"
    }
   ],
   "source": [
    "len(shoes_june_df)"
   ]
  },
  {
   "cell_type": "code",
   "execution_count": 4,
   "metadata": {},
   "outputs": [
    {
     "data": {
      "text/html": [
       "<div>\n",
       "<style scoped>\n",
       "    .dataframe tbody tr th:only-of-type {\n",
       "        vertical-align: middle;\n",
       "    }\n",
       "\n",
       "    .dataframe tbody tr th {\n",
       "        vertical-align: top;\n",
       "    }\n",
       "\n",
       "    .dataframe thead th {\n",
       "        text-align: right;\n",
       "    }\n",
       "</style>\n",
       "<table border=\"1\" class=\"dataframe\">\n",
       "  <thead>\n",
       "    <tr style=\"text-align: right;\">\n",
       "      <th></th>\n",
       "      <th>0</th>\n",
       "      <th>1</th>\n",
       "      <th>2</th>\n",
       "      <th>3</th>\n",
       "      <th>4</th>\n",
       "    </tr>\n",
       "  </thead>\n",
       "  <tbody>\n",
       "    <tr>\n",
       "      <th>id</th>\n",
       "      <td>AWpyySsJAGTnQPR7wNt4</td>\n",
       "      <td>AWpyyyb3AGTnQPR7wN-u</td>\n",
       "      <td>AWpyzlajAGTnQPR7wOX8</td>\n",
       "      <td>AWpyxomE0U_gzG0hkA1q</td>\n",
       "      <td>AWpyxChWJbEilcB6RhWx</td>\n",
       "    </tr>\n",
       "    <tr>\n",
       "      <th>dateAdded</th>\n",
       "      <td>2019-05-01T09:27:22Z</td>\n",
       "      <td>2019-05-01T09:27:19Z</td>\n",
       "      <td>2019-05-01T09:26:59Z</td>\n",
       "      <td>2019-05-01T09:26:56Z</td>\n",
       "      <td>2019-05-01T09:26:56Z</td>\n",
       "    </tr>\n",
       "    <tr>\n",
       "      <th>dateUpdated</th>\n",
       "      <td>2019-05-01T09:27:22Z</td>\n",
       "      <td>2019-05-01T09:27:19Z</td>\n",
       "      <td>2019-05-01T09:26:59Z</td>\n",
       "      <td>2019-05-01T09:26:56Z</td>\n",
       "      <td>2019-05-01T09:26:56Z</td>\n",
       "    </tr>\n",
       "    <tr>\n",
       "      <th>asins</th>\n",
       "      <td>NaN</td>\n",
       "      <td>NaN</td>\n",
       "      <td>NaN</td>\n",
       "      <td>NaN</td>\n",
       "      <td>NaN</td>\n",
       "    </tr>\n",
       "    <tr>\n",
       "      <th>brand</th>\n",
       "      <td>City Classified</td>\n",
       "      <td>Skechers</td>\n",
       "      <td>Floral</td>\n",
       "      <td>Jambu</td>\n",
       "      <td>Trotters</td>\n",
       "    </tr>\n",
       "    <tr>\n",
       "      <th>categories</th>\n",
       "      <td>Clothing,Shoes,Womens Shoes,All Womens Shoes</td>\n",
       "      <td>Clothing,Shoes,Womens Shoes,All Womens Shoes</td>\n",
       "      <td>Clothing,Shoes,Womens Shoes,All Womens Shoes</td>\n",
       "      <td>Clothing,Shoes,Womens Shoes,All Womens Shoes</td>\n",
       "      <td>Clothing,Shoes,Womens Shoes,All Womens Shoes</td>\n",
       "    </tr>\n",
       "    <tr>\n",
       "      <th>primaryCategories</th>\n",
       "      <td>Shoes</td>\n",
       "      <td>Shoes</td>\n",
       "      <td>Shoes</td>\n",
       "      <td>Shoes</td>\n",
       "      <td>Shoes</td>\n",
       "    </tr>\n",
       "    <tr>\n",
       "      <th>colors</th>\n",
       "      <td>Black</td>\n",
       "      <td>Taupe</td>\n",
       "      <td>Black</td>\n",
       "      <td>Black/Multi</td>\n",
       "      <td>White</td>\n",
       "    </tr>\n",
       "    <tr>\n",
       "      <th>dimension</th>\n",
       "      <td>NaN</td>\n",
       "      <td>NaN</td>\n",
       "      <td>NaN</td>\n",
       "      <td>NaN</td>\n",
       "      <td>NaN</td>\n",
       "    </tr>\n",
       "    <tr>\n",
       "      <th>ean / upc</th>\n",
       "      <td>656000000000</td>\n",
       "      <td>192000000000</td>\n",
       "      <td>709000000000</td>\n",
       "      <td>884000000000</td>\n",
       "      <td>887000000000</td>\n",
       "    </tr>\n",
       "    <tr>\n",
       "      <th>imageURLs</th>\n",
       "      <td>https://i5.walmartimages.com/asr/f0dc6cbd-fa38...</td>\n",
       "      <td>NaN</td>\n",
       "      <td>NaN</td>\n",
       "      <td>https://i5.walmartimages.com/asr/bf04e7cf-0f7b...</td>\n",
       "      <td>NaN</td>\n",
       "    </tr>\n",
       "    <tr>\n",
       "      <th>keys</th>\n",
       "      <td>walmart.com-2013PXX8GMN7,656143772191,06561437...</td>\n",
       "      <td>192283420528,0192283420528,walmart.com-21739WH...</td>\n",
       "      <td>walmart.com-1MXIR45EG0EO,708750137976,07087501...</td>\n",
       "      <td>883988336206,0883988336206,walmart.com-653BPY2...</td>\n",
       "      <td>887246520857,0887246520857,walmart.com-3HL720G...</td>\n",
       "    </tr>\n",
       "    <tr>\n",
       "      <th>manufacturer</th>\n",
       "      <td>NaN</td>\n",
       "      <td>NaN</td>\n",
       "      <td>NaN</td>\n",
       "      <td>NaN</td>\n",
       "      <td>NaN</td>\n",
       "    </tr>\n",
       "    <tr>\n",
       "      <th>manufacturerNumber</th>\n",
       "      <td>NaN</td>\n",
       "      <td>NaN</td>\n",
       "      <td>NaN</td>\n",
       "      <td>NaN</td>\n",
       "      <td>NaN</td>\n",
       "    </tr>\n",
       "    <tr>\n",
       "      <th>name</th>\n",
       "      <td>City Classified Stylish-S Women's Zipper Ankle...</td>\n",
       "      <td>Skechers Women'S You Radiate, Walking</td>\n",
       "      <td>FLORAL Pearl Women's Wide Width Evening Dress ...</td>\n",
       "      <td>Women's Jambu Amal Water Resistant Bootie</td>\n",
       "      <td>trotters women's blast iii boot,black quill,11...</td>\n",
       "    </tr>\n",
       "    <tr>\n",
       "      <th>prices.amountMax</th>\n",
       "      <td>29.95</td>\n",
       "      <td>84</td>\n",
       "      <td>49.95</td>\n",
       "      <td>127.2</td>\n",
       "      <td>47.66</td>\n",
       "    </tr>\n",
       "    <tr>\n",
       "      <th>prices.amountMin</th>\n",
       "      <td>29.95</td>\n",
       "      <td>84</td>\n",
       "      <td>49.95</td>\n",
       "      <td>127.2</td>\n",
       "      <td>47.66</td>\n",
       "    </tr>\n",
       "    <tr>\n",
       "      <th>prices.availability</th>\n",
       "      <td>True</td>\n",
       "      <td>True</td>\n",
       "      <td>True</td>\n",
       "      <td>False</td>\n",
       "      <td>False</td>\n",
       "    </tr>\n",
       "    <tr>\n",
       "      <th>prices.color</th>\n",
       "      <td>Black</td>\n",
       "      <td>Taupe</td>\n",
       "      <td>Black</td>\n",
       "      <td>Black/Multi</td>\n",
       "      <td>White</td>\n",
       "    </tr>\n",
       "    <tr>\n",
       "      <th>prices.condition</th>\n",
       "      <td>NaN</td>\n",
       "      <td>NaN</td>\n",
       "      <td>NaN</td>\n",
       "      <td>NaN</td>\n",
       "      <td>NaN</td>\n",
       "    </tr>\n",
       "    <tr>\n",
       "      <th>prices.currency</th>\n",
       "      <td>USD</td>\n",
       "      <td>USD</td>\n",
       "      <td>USD</td>\n",
       "      <td>USD</td>\n",
       "      <td>USD</td>\n",
       "    </tr>\n",
       "    <tr>\n",
       "      <th>prices.dateAdded</th>\n",
       "      <td>NaN</td>\n",
       "      <td>NaN</td>\n",
       "      <td>NaN</td>\n",
       "      <td>NaN</td>\n",
       "      <td>NaN</td>\n",
       "    </tr>\n",
       "    <tr>\n",
       "      <th>prices.dateSeen</th>\n",
       "      <td>2019-04-19T07:09:29Z</td>\n",
       "      <td>2019-04-24T09:14:11Z</td>\n",
       "      <td>2019-04-25T12:35:00.000Z</td>\n",
       "      <td>2019-04-30T19:49:00.000Z</td>\n",
       "      <td>2019-04-19T07:07:46Z</td>\n",
       "    </tr>\n",
       "    <tr>\n",
       "      <th>prices.isSale</th>\n",
       "      <td>NaN</td>\n",
       "      <td>NaN</td>\n",
       "      <td>NaN</td>\n",
       "      <td>NaN</td>\n",
       "      <td>NaN</td>\n",
       "    </tr>\n",
       "    <tr>\n",
       "      <th>prices.merchant</th>\n",
       "      <td>NaN</td>\n",
       "      <td>NaN</td>\n",
       "      <td>NaN</td>\n",
       "      <td>NaN</td>\n",
       "      <td>NaN</td>\n",
       "    </tr>\n",
       "    <tr>\n",
       "      <th>prices.offer</th>\n",
       "      <td>Online only</td>\n",
       "      <td>Online only</td>\n",
       "      <td>Online only</td>\n",
       "      <td>Online only: 20% off</td>\n",
       "      <td>Online only: 50% off</td>\n",
       "    </tr>\n",
       "    <tr>\n",
       "      <th>prices.returnPolicy</th>\n",
       "      <td>NaN</td>\n",
       "      <td>NaN</td>\n",
       "      <td>NaN</td>\n",
       "      <td>NaN</td>\n",
       "      <td>NaN</td>\n",
       "    </tr>\n",
       "    <tr>\n",
       "      <th>prices.shipping</th>\n",
       "      <td>NaN</td>\n",
       "      <td>NaN</td>\n",
       "      <td>NaN</td>\n",
       "      <td>NaN</td>\n",
       "      <td>NaN</td>\n",
       "    </tr>\n",
       "    <tr>\n",
       "      <th>prices.size</th>\n",
       "      <td>8</td>\n",
       "      <td>6 M US</td>\n",
       "      <td>5</td>\n",
       "      <td>9.5 BM US</td>\n",
       "      <td>11</td>\n",
       "    </tr>\n",
       "    <tr>\n",
       "      <th>prices.sourceURLs</th>\n",
       "      <td>https://www.walmart.com/ip/City-Classified-Sty...</td>\n",
       "      <td>https://www.walmart.com/ip/Skechers-Women-S-Yo...</td>\n",
       "      <td>https://www.walmart.com/ip/FLORAL-Pearl-Women-...</td>\n",
       "      <td>https://www.walmart.com/ip/Jambu-Women-s-AMAL-...</td>\n",
       "      <td>https://www.walmart.com/ip/Women-s-Trotters-Bl...</td>\n",
       "    </tr>\n",
       "    <tr>\n",
       "      <th>sizes</th>\n",
       "      <td>8</td>\n",
       "      <td>6 M US</td>\n",
       "      <td>5</td>\n",
       "      <td>9.5 BM US</td>\n",
       "      <td>11</td>\n",
       "    </tr>\n",
       "    <tr>\n",
       "      <th>sourceURLs</th>\n",
       "      <td>https://www.walmart.com/ip/City-Classified-Sty...</td>\n",
       "      <td>https://www.walmart.com/ip/Skechers-Women-S-Yo...</td>\n",
       "      <td>https://www.walmart.com/ip/FLORAL-Pearl-Women-...</td>\n",
       "      <td>https://www.walmart.com/ip/Jambu-Women-s-AMAL-...</td>\n",
       "      <td>https://www.walmart.com/ip/Women-s-Trotters-Bl...</td>\n",
       "    </tr>\n",
       "  </tbody>\n",
       "</table>\n",
       "</div>"
      ],
      "text/plain": [
       "                                                                     0  \\\n",
       "id                                                AWpyySsJAGTnQPR7wNt4   \n",
       "dateAdded                                         2019-05-01T09:27:22Z   \n",
       "dateUpdated                                       2019-05-01T09:27:22Z   \n",
       "asins                                                              NaN   \n",
       "brand                                                  City Classified   \n",
       "categories                Clothing,Shoes,Womens Shoes,All Womens Shoes   \n",
       "primaryCategories                                                Shoes   \n",
       "colors                                                           Black   \n",
       "dimension                                                          NaN   \n",
       "ean / upc                                                 656000000000   \n",
       "imageURLs            https://i5.walmartimages.com/asr/f0dc6cbd-fa38...   \n",
       "keys                 walmart.com-2013PXX8GMN7,656143772191,06561437...   \n",
       "manufacturer                                                       NaN   \n",
       "manufacturerNumber                                                 NaN   \n",
       "name                 City Classified Stylish-S Women's Zipper Ankle...   \n",
       "prices.amountMax                                                 29.95   \n",
       "prices.amountMin                                                 29.95   \n",
       "prices.availability                                               True   \n",
       "prices.color                                                     Black   \n",
       "prices.condition                                                   NaN   \n",
       "prices.currency                                                    USD   \n",
       "prices.dateAdded                                                   NaN   \n",
       "prices.dateSeen                                   2019-04-19T07:09:29Z   \n",
       "prices.isSale                                                      NaN   \n",
       "prices.merchant                                                    NaN   \n",
       "prices.offer                                               Online only   \n",
       "prices.returnPolicy                                                NaN   \n",
       "prices.shipping                                                    NaN   \n",
       "prices.size                                                          8   \n",
       "prices.sourceURLs    https://www.walmart.com/ip/City-Classified-Sty...   \n",
       "sizes                                                                8   \n",
       "sourceURLs           https://www.walmart.com/ip/City-Classified-Sty...   \n",
       "\n",
       "                                                                     1  \\\n",
       "id                                                AWpyyyb3AGTnQPR7wN-u   \n",
       "dateAdded                                         2019-05-01T09:27:19Z   \n",
       "dateUpdated                                       2019-05-01T09:27:19Z   \n",
       "asins                                                              NaN   \n",
       "brand                                                         Skechers   \n",
       "categories                Clothing,Shoes,Womens Shoes,All Womens Shoes   \n",
       "primaryCategories                                                Shoes   \n",
       "colors                                                           Taupe   \n",
       "dimension                                                          NaN   \n",
       "ean / upc                                                 192000000000   \n",
       "imageURLs                                                          NaN   \n",
       "keys                 192283420528,0192283420528,walmart.com-21739WH...   \n",
       "manufacturer                                                       NaN   \n",
       "manufacturerNumber                                                 NaN   \n",
       "name                             Skechers Women'S You Radiate, Walking   \n",
       "prices.amountMax                                                    84   \n",
       "prices.amountMin                                                    84   \n",
       "prices.availability                                               True   \n",
       "prices.color                                                     Taupe   \n",
       "prices.condition                                                   NaN   \n",
       "prices.currency                                                    USD   \n",
       "prices.dateAdded                                                   NaN   \n",
       "prices.dateSeen                                   2019-04-24T09:14:11Z   \n",
       "prices.isSale                                                      NaN   \n",
       "prices.merchant                                                    NaN   \n",
       "prices.offer                                               Online only   \n",
       "prices.returnPolicy                                                NaN   \n",
       "prices.shipping                                                    NaN   \n",
       "prices.size                                                     6 M US   \n",
       "prices.sourceURLs    https://www.walmart.com/ip/Skechers-Women-S-Yo...   \n",
       "sizes                                                           6 M US   \n",
       "sourceURLs           https://www.walmart.com/ip/Skechers-Women-S-Yo...   \n",
       "\n",
       "                                                                     2  \\\n",
       "id                                                AWpyzlajAGTnQPR7wOX8   \n",
       "dateAdded                                         2019-05-01T09:26:59Z   \n",
       "dateUpdated                                       2019-05-01T09:26:59Z   \n",
       "asins                                                              NaN   \n",
       "brand                                                           Floral   \n",
       "categories                Clothing,Shoes,Womens Shoes,All Womens Shoes   \n",
       "primaryCategories                                                Shoes   \n",
       "colors                                                           Black   \n",
       "dimension                                                          NaN   \n",
       "ean / upc                                                 709000000000   \n",
       "imageURLs                                                          NaN   \n",
       "keys                 walmart.com-1MXIR45EG0EO,708750137976,07087501...   \n",
       "manufacturer                                                       NaN   \n",
       "manufacturerNumber                                                 NaN   \n",
       "name                 FLORAL Pearl Women's Wide Width Evening Dress ...   \n",
       "prices.amountMax                                                 49.95   \n",
       "prices.amountMin                                                 49.95   \n",
       "prices.availability                                               True   \n",
       "prices.color                                                     Black   \n",
       "prices.condition                                                   NaN   \n",
       "prices.currency                                                    USD   \n",
       "prices.dateAdded                                                   NaN   \n",
       "prices.dateSeen                               2019-04-25T12:35:00.000Z   \n",
       "prices.isSale                                                      NaN   \n",
       "prices.merchant                                                    NaN   \n",
       "prices.offer                                               Online only   \n",
       "prices.returnPolicy                                                NaN   \n",
       "prices.shipping                                                    NaN   \n",
       "prices.size                                                          5   \n",
       "prices.sourceURLs    https://www.walmart.com/ip/FLORAL-Pearl-Women-...   \n",
       "sizes                                                                5   \n",
       "sourceURLs           https://www.walmart.com/ip/FLORAL-Pearl-Women-...   \n",
       "\n",
       "                                                                     3  \\\n",
       "id                                                AWpyxomE0U_gzG0hkA1q   \n",
       "dateAdded                                         2019-05-01T09:26:56Z   \n",
       "dateUpdated                                       2019-05-01T09:26:56Z   \n",
       "asins                                                              NaN   \n",
       "brand                                                            Jambu   \n",
       "categories                Clothing,Shoes,Womens Shoes,All Womens Shoes   \n",
       "primaryCategories                                                Shoes   \n",
       "colors                                                     Black/Multi   \n",
       "dimension                                                          NaN   \n",
       "ean / upc                                                 884000000000   \n",
       "imageURLs            https://i5.walmartimages.com/asr/bf04e7cf-0f7b...   \n",
       "keys                 883988336206,0883988336206,walmart.com-653BPY2...   \n",
       "manufacturer                                                       NaN   \n",
       "manufacturerNumber                                                 NaN   \n",
       "name                         Women's Jambu Amal Water Resistant Bootie   \n",
       "prices.amountMax                                                 127.2   \n",
       "prices.amountMin                                                 127.2   \n",
       "prices.availability                                              False   \n",
       "prices.color                                               Black/Multi   \n",
       "prices.condition                                                   NaN   \n",
       "prices.currency                                                    USD   \n",
       "prices.dateAdded                                                   NaN   \n",
       "prices.dateSeen                               2019-04-30T19:49:00.000Z   \n",
       "prices.isSale                                                      NaN   \n",
       "prices.merchant                                                    NaN   \n",
       "prices.offer                                      Online only: 20% off   \n",
       "prices.returnPolicy                                                NaN   \n",
       "prices.shipping                                                    NaN   \n",
       "prices.size                                                  9.5 BM US   \n",
       "prices.sourceURLs    https://www.walmart.com/ip/Jambu-Women-s-AMAL-...   \n",
       "sizes                                                        9.5 BM US   \n",
       "sourceURLs           https://www.walmart.com/ip/Jambu-Women-s-AMAL-...   \n",
       "\n",
       "                                                                     4  \n",
       "id                                                AWpyxChWJbEilcB6RhWx  \n",
       "dateAdded                                         2019-05-01T09:26:56Z  \n",
       "dateUpdated                                       2019-05-01T09:26:56Z  \n",
       "asins                                                              NaN  \n",
       "brand                                                         Trotters  \n",
       "categories                Clothing,Shoes,Womens Shoes,All Womens Shoes  \n",
       "primaryCategories                                                Shoes  \n",
       "colors                                                           White  \n",
       "dimension                                                          NaN  \n",
       "ean / upc                                                 887000000000  \n",
       "imageURLs                                                          NaN  \n",
       "keys                 887246520857,0887246520857,walmart.com-3HL720G...  \n",
       "manufacturer                                                       NaN  \n",
       "manufacturerNumber                                                 NaN  \n",
       "name                 trotters women's blast iii boot,black quill,11...  \n",
       "prices.amountMax                                                 47.66  \n",
       "prices.amountMin                                                 47.66  \n",
       "prices.availability                                              False  \n",
       "prices.color                                                     White  \n",
       "prices.condition                                                   NaN  \n",
       "prices.currency                                                    USD  \n",
       "prices.dateAdded                                                   NaN  \n",
       "prices.dateSeen                                   2019-04-19T07:07:46Z  \n",
       "prices.isSale                                                      NaN  \n",
       "prices.merchant                                                    NaN  \n",
       "prices.offer                                      Online only: 50% off  \n",
       "prices.returnPolicy                                                NaN  \n",
       "prices.shipping                                                    NaN  \n",
       "prices.size                                                         11  \n",
       "prices.sourceURLs    https://www.walmart.com/ip/Women-s-Trotters-Bl...  \n",
       "sizes                                                               11  \n",
       "sourceURLs           https://www.walmart.com/ip/Women-s-Trotters-Bl...  "
      ]
     },
     "execution_count": 4,
     "metadata": {},
     "output_type": "execute_result"
    }
   ],
   "source": [
    "shoes_june_df.head().T"
   ]
  },
  {
   "cell_type": "markdown",
   "metadata": {},
   "source": [
    "## the dataframe for black shoes"
   ]
  },
  {
   "cell_type": "code",
   "execution_count": 5,
   "metadata": {},
   "outputs": [],
   "source": [
    "shoes_b_june_df = shoes_june_df[shoes_june_df['colors'].str.contains('black', case=False)]"
   ]
  },
  {
   "cell_type": "code",
   "execution_count": 6,
   "metadata": {},
   "outputs": [
    {
     "data": {
      "text/plain": [
       "array([nan, 'Comfy Feet', 'asics', 'VANS', 'ASICS', 'ELLIE SHOES',\n",
       "       'Brinley Co.', 'Journee Collection', 'Brinley Co', 'Pleaser',\n",
       "       'PleaserUSA', 'Bonnibel', 'Alegria', 'Dyeables', 'Pleaser USA',\n",
       "       'Alfani', 'Easy Street', 'Dr. Martens', 'New Balance', 'Crocs',\n",
       "       'Anna', 'Ugg Australia', 'BEARPAW', 'SoftWalk', 'CUDAS', 'Reebok',\n",
       "       'Propet', 'Riverberry', 'Trotters', 'TOMS', 'Grendene',\n",
       "       'Onitsuka Tiger', 'Avia', 'Touch Ups', 'Franco Sarto',\n",
       "       'Cobb Hill by New Balance', 'Minnetonka Slippers', 'Minnetonka',\n",
       "       'Toms', 'Minnetonka Moccasin Company, Inc.', 'El Naturalista',\n",
       "       'WalterDrake', 'Babe', 'Rocket Dog', 'Bearpaw',\n",
       "       'Minnetonka Womens Shoes', 'The Highest Heel', 'Nomad Footwear',\n",
       "       'OOFOS', 'FitFlop', 'Oofos', 'White Mountain',\n",
       "       'Touch Ups by Benjamin Walk', 'Style & Co.', 'Timberland', 'Ugg',\n",
       "       'Fila', 'Bearpaw Kids', 'Silver Lilly',\n",
       "       'Vionic with Orthaheel Technology'], dtype=object)"
      ]
     },
     "execution_count": 6,
     "metadata": {},
     "output_type": "execute_result"
    }
   ],
   "source": [
    "shoes_two_june_df = shoes_june_df\n",
    "shoes_two_june_df['manufacturer'].unique()"
   ]
  },
  {
   "cell_type": "code",
   "execution_count": 7,
   "metadata": {},
   "outputs": [],
   "source": [
    "shoes_two_june_df = shoes_two_june_df.loc[~(shoes_two_june_df['manufacturer'].isna())]"
   ]
  },
  {
   "cell_type": "code",
   "execution_count": 8,
   "metadata": {},
   "outputs": [
    {
     "data": {
      "text/plain": [
       "1362"
      ]
     },
     "execution_count": 8,
     "metadata": {},
     "output_type": "execute_result"
    }
   ],
   "source": [
    "len(shoes_two_june_df)"
   ]
  },
  {
   "cell_type": "markdown",
   "metadata": {},
   "source": [
    "## shoes_twobb_june_df includes all black shoes for the two brand: Brinley Co. and Propet"
   ]
  },
  {
   "cell_type": "code",
   "execution_count": 9,
   "metadata": {},
   "outputs": [
    {
     "data": {
      "text/plain": [
       "946"
      ]
     },
     "execution_count": 9,
     "metadata": {},
     "output_type": "execute_result"
    }
   ],
   "source": [
    "shoes_twobb_june_df = shoes_two_june_df[shoes_two_june_df['manufacturer'].str.contains('Brinley Co.|Brinley Co|Propet'\n",
    "                                                                                     , regex=True)]\n",
    "len(shoes_twobb_june_df)"
   ]
  },
  {
   "cell_type": "code",
   "execution_count": 10,
   "metadata": {},
   "outputs": [],
   "source": [
    "propet_b_df = shoes_two_june_df[shoes_two_june_df['manufacturer'].str.contains('Propet')]"
   ]
  },
  {
   "cell_type": "code",
   "execution_count": 11,
   "metadata": {},
   "outputs": [
    {
     "data": {
      "text/plain": [
       "530"
      ]
     },
     "execution_count": 11,
     "metadata": {},
     "output_type": "execute_result"
    }
   ],
   "source": [
    "propet_price_b = propet_b_df['prices.amountMax']\n",
    "len(propet_price_b)\n",
    "# propet_price_b.unique()"
   ]
  },
  {
   "cell_type": "code",
   "execution_count": 12,
   "metadata": {},
   "outputs": [],
   "source": [
    "brinley_b_df = shoes_two_june_df[shoes_two_june_df['manufacturer'].str.contains('Brinley Co.|Brinley Co', regex=True)]"
   ]
  },
  {
   "cell_type": "code",
   "execution_count": 13,
   "metadata": {},
   "outputs": [
    {
     "data": {
      "text/plain": [
       "416"
      ]
     },
     "execution_count": 13,
     "metadata": {},
     "output_type": "execute_result"
    }
   ],
   "source": [
    "brinley_price_b = brinley_b_df['prices.amountMax']\n",
    "len(brinley_price_b)\n",
    "# brinley_price_b.unique()"
   ]
  },
  {
   "cell_type": "markdown",
   "metadata": {},
   "source": [
    "## bootstrapping - Propet black shoes June"
   ]
  },
  {
   "cell_type": "code",
   "execution_count": 21,
   "metadata": {},
   "outputs": [],
   "source": [
    "bootstrap_samples_p = []\n",
    "bootstrap_sample_means_p = np.zeros(530)\n",
    "bootstrap_sample_95pcts_p = np.zeros(530)\n",
    "for i in range(530):\n",
    "    bootstrap_sample = np.random.choice(propet_price_b, size=530)\n",
    "    bootstrap_samples_p.append(bootstrap_sample)\n",
    "    bootstrap_sample_means_p[i] = bootstrap_sample.mean()\n",
    "    bootstrap_sample_95pct_p = np.percentile(a=bootstrap_sample, q=95)\n",
    "    bootstrap_sample_95pcts_p[i] = bootstrap_sample_95pct_p"
   ]
  },
  {
   "cell_type": "code",
   "execution_count": 51,
   "metadata": {},
   "outputs": [
    {
     "data": {
      "image/png": "[encoded data removed]",
      "text/plain": [
       "<Figure size 432x288 with 1 Axes>"
      ]
     },
     "metadata": {
      "needs_background": "light"
     },
     "output_type": "display_data"
    }
   ],
   "source": [
    "fig, ax = plt.subplots()\n",
    "ax.hist(bootstrap_sample_means_p)\n",
    "ax.hist(bootstrap_sample_means_b);"
   ]
  },
  {
   "cell_type": "code",
   "execution_count": 55,
   "metadata": {},
   "outputs": [
    {
     "data": {
      "text/plain": [
       "63.84254827340691"
      ]
     },
     "execution_count": 55,
     "metadata": {},
     "output_type": "execute_result"
    }
   ],
   "source": [
    "bootstrap_sample_means_p.mean()"
   ]
  },
  {
   "cell_type": "code",
   "execution_count": 56,
   "metadata": {},
   "outputs": [
    {
     "data": {
      "text/plain": [
       "26.653120955066566"
      ]
     },
     "execution_count": 56,
     "metadata": {},
     "output_type": "execute_result"
    }
   ],
   "source": [
    "bootstrap_sample_means_b.mean()"
   ]
  },
  {
   "cell_type": "code",
   "execution_count": 22,
   "metadata": {},
   "outputs": [
    {
     "data": {
      "text/plain": [
       "0.8392971033910619"
      ]
     },
     "execution_count": 22,
     "metadata": {},
     "output_type": "execute_result"
    }
   ],
   "source": [
    "np.std(bootstrap_sample_means_p)"
   ]
  },
  {
   "cell_type": "code",
   "execution_count": 53,
   "metadata": {},
   "outputs": [
    {
     "data": {
      "text/plain": [
       "(array([  8.,  20.,  41.,  66.,  90., 107.,  90.,  62.,  29.,  17.]),\n",
       " array([61.56135849, 61.99079811, 62.42023774, 62.84967736, 63.27911698,\n",
       "        63.7085566 , 64.13799623, 64.56743585, 64.99687547, 65.42631509,\n",
       "        65.85575472]),\n",
       " <a list of 10 Patch objects>)"
      ]
     },
     "execution_count": 53,
     "metadata": {},
     "output_type": "execute_result"
    },
    {
     "data": {
      "image/png": "[encoded data removed]",
      "text/plain": [
       "<Figure size 432x288 with 1 Axes>"
      ]
     },
     "metadata": {
      "needs_background": "light"
     },
     "output_type": "display_data"
    }
   ],
   "source": [
    "plt.hist(bootstrap_sample_means_p)"
   ]
  },
  {
   "cell_type": "code",
   "execution_count": 29,
   "metadata": {},
   "outputs": [
    {
     "data": {
      "text/plain": [
       "82.95"
      ]
     },
     "execution_count": 29,
     "metadata": {},
     "output_type": "execute_result"
    }
   ],
   "source": [
    "np.percentile(a=bootstrap_sample_95pcts_p, q=2.5)"
   ]
  },
  {
   "cell_type": "markdown",
   "metadata": {},
   "source": [
    "## bootstrapping - Brinley co black shoes June"
   ]
  },
  {
   "cell_type": "code",
   "execution_count": 25,
   "metadata": {},
   "outputs": [],
   "source": [
    "bootstrap_samples_b = []\n",
    "bootstrap_sample_means_b = np.zeros(416)\n",
    "for i in range(416):\n",
    "    bootstrap_sample = np.random.choice(brinley_price_b, size=416)\n",
    "    bootstrap_samples_b.append(bootstrap_sample)\n",
    "    bootstrap_sample_means_b[i] = bootstrap_sample.mean()\n"
   ]
  },
  {
   "cell_type": "code",
   "execution_count": 40,
   "metadata": {},
   "outputs": [
    {
     "data": {
      "text/plain": [
       "37.04000000000001"
      ]
     },
     "execution_count": 40,
     "metadata": {},
     "output_type": "execute_result"
    }
   ],
   "source": [
    "np.percentile(a=brinley_price_b, q=8)"
   ]
  },
  {
   "cell_type": "code",
   "execution_count": 27,
   "metadata": {},
   "outputs": [
    {
     "data": {
      "text/plain": [
       "0.32458742972053634"
      ]
     },
     "execution_count": 27,
     "metadata": {},
     "output_type": "execute_result"
    }
   ],
   "source": [
    "bootstrap_sample_means_b.std()"
   ]
  },
  {
   "cell_type": "code",
   "execution_count": 52,
   "metadata": {},
   "outputs": [
    {
     "data": {
      "text/plain": [
       "(array([  2.,   1.,  10.,  21.,  69.,  92., 111.,  72.,  31.,   7.]),\n",
       " array([25.39403846, 25.60380288, 25.81356731, 26.02333173, 26.23309615,\n",
       "        26.44286058, 26.652625  , 26.86238942, 27.07215385, 27.28191827,\n",
       "        27.49168269]),\n",
       " <a list of 10 Patch objects>)"
      ]
     },
     "execution_count": 52,
     "metadata": {},
     "output_type": "execute_result"
    },
    {
     "data": {
      "image/png": "[encoded data removed]",
      "text/plain": [
       "<Figure size 432x288 with 1 Axes>"
      ]
     },
     "metadata": {
      "needs_background": "light"
     },
     "output_type": "display_data"
    }
   ],
   "source": [
    "plt.hist(bootstrap_sample_means_b)"
   ]
  },
  {
   "cell_type": "markdown",
   "metadata": {},
   "source": [
    "## A/B Testing "
   ]
  },
  {
   "cell_type": "code",
   "execution_count": 42,
   "metadata": {},
   "outputs": [],
   "source": [
    "def Cohen_d(group1, group2):\n",
    "\n",
    "    # Compute Cohen's d.\n",
    "\n",
    "    # group1: Series or NumPy array\n",
    "    # group2: Series or NumPy array\n",
    "\n",
    "    # returns a floating point number \n",
    "\n",
    "    diff = group1.mean() - group2.mean()\n",
    "\n",
    "    n1, n2 = len(group1), len(group2)\n",
    "    var1 = group1.var()\n",
    "    var2 = group2.var()\n",
    "\n",
    "    # Calculate the pooled threshold as shown earlier\n",
    "    pooled_var = (n1 * var1 + n2 * var2) / (n1 + n2)\n",
    "    \n",
    "    # Calculate Cohen's d statistic\n",
    "    d = diff / np.sqrt(pooled_var)\n",
    "    \n",
    "    return d"
   ]
  },
  {
   "cell_type": "code",
   "execution_count": 60,
   "metadata": {},
   "outputs": [
    {
     "name": "stdout",
     "output_type": "stream",
     "text": [
      "383.29564158647497\n",
      "19.577937623418737\n"
     ]
    }
   ],
   "source": [
    "print(propet_price_b.var())\n",
    "print(propet_price_b.std())"
   ]
  },
  {
   "cell_type": "code",
   "execution_count": 49,
   "metadata": {},
   "outputs": [
    {
     "data": {
      "text/plain": [
       "2.4195136064059035"
      ]
     },
     "execution_count": 49,
     "metadata": {},
     "output_type": "execute_result"
    }
   ],
   "source": [
    "effect_size = Cohen_d(propet_price_b, brinley_price_b)\n",
    "effect_size"
   ]
  },
  {
   "cell_type": "code",
   "execution_count": 48,
   "metadata": {},
   "outputs": [
    {
     "data": {
      "text/plain": [
       "3.918437279986674"
      ]
     },
     "execution_count": 48,
     "metadata": {},
     "output_type": "execute_result"
    }
   ],
   "source": [
    "power_analysis = TTestIndPower()\n",
    "power_analysis.solve_power(alpha=.05, effect_size=effect_size, power=.80, alternative='two-sided')"
   ]
  },
  {
   "cell_type": "code",
   "execution_count": null,
   "metadata": {},
   "outputs": [],
   "source": []
  }
 ],
 "metadata": {
  "kernelspec": {
   "display_name": "Python [conda env:learn-env] *",
   "language": "python",
   "name": "conda-env-learn-env-py"
  },
  "language_info": {
   "codemirror_mode": {
    "name": "ipython",
    "version": 3
   },
   "file_extension": ".py",
   "mimetype": "text/x-python",
   "name": "python",
   "nbconvert_exporter": "python",
   "pygments_lexer": "ipython3",
   "version": "3.6.6"
  }
 },
 "nbformat": 4,
 "nbformat_minor": 2
}
